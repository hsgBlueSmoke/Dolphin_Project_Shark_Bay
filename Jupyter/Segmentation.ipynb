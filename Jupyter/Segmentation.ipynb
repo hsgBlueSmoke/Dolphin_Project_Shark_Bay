{
 "cells": [
  {
   "cell_type": "code",
   "execution_count": null,
   "metadata": {},
   "outputs": [],
   "source": [
    "### Nutze klassifizierte Bilder um sie in CVAT zu labeln -> Polygon Label ###\n",
    "### Exportiere das Dataset nicht als yolo sondern \"CVAT for images 1.1\" ###\n",
    "\n",
    "### Dataset wird entpackt, xml eingelesen und in yolo Format txt gespeichert, verschieben der jpg & txt dateien in Zielordner, splitte sie ###\n",
    "\n",
    "import os\n",
    "import shutil\n",
    "import xml.etree.ElementTree as ET\n",
    "from zipfile import ZipFile\n",
    "import splitfolders\n",
    "\n",
    "# Set folder paths\n",
    "base_folder = 'datasets/labels/segmentation/cvat_01'\n",
    "img_folder = os.path.join(base_folder, 'images')\n",
    "anno_folder = os.path.join(base_folder, 'sort/obj_train_data')\n",
    "split_folder = os.path.join(base_folder, 'split')\n",
    "\n",
    "# Extract all files from the archive\n",
    "with ZipFile('datasets/images/segmentation/seg_task_cvat.zip', 'r') as zf:\n",
    "    zf.extractall(base_folder)\n",
    "\n",
    "# Set the path to the XML file\n",
    "xml_file = os.path.join(base_folder, 'annotations.xml')\n",
    "\n",
    "# Set the target directory for the output files\n",
    "os.makedirs(anno_folder, exist_ok=True)\n",
    "\n",
    "# Loop through all images in the XML file\n",
    "for image in ET.parse(xml_file).getroot().findall('image'):\n",
    "    # Get the image file name and dimensions\n",
    "    file_name, width, height = image.get('name'), int(image.get('width')), int(image.get('height'))\n",
    "    \n",
    "    # Loop through all polygons in the image\n",
    "    for polygon in image.findall('polygon'):\n",
    "        # Get the label\n",
    "        label = polygon.get('label')\n",
    "        \n",
    "        # Check if the label is \"Dolphin_segment\"\n",
    "        if label == 'Dolphin_segment':\n",
    "            # Normalize the points\n",
    "            points_normalized = [f\"{float(x)/width:.6f} {float(y)/height:.6f}\" for x, y in map(str.split, polygon.get('points').split(';'))]\n",
    "            \n",
    "            # Create the output TXT file name\n",
    "            txt_file_name = os.path.splitext(file_name)[0] + '.txt'\n",
    "            \n",
    "            # Write the class and normalized points to the output TXT file\n",
    "            with open(os.path.join(anno_folder, txt_file_name), 'w') as f:\n",
    "                f.write(f\"0 {' '.join(points_normalized)}\")\n",
    "            \n",
    "            # Copy the image file to the target directory\n",
    "            shutil.copy(os.path.join(img_folder, file_name), anno_folder)\n",
    "\n",
    "# Split the images into train/val/test folders\n",
    "splitfolders.ratio(img_folder, output=split_folder, seed=42, ratio=(.8, .2, .0), group_prefix=2)\n",
    "\n",
    "# Remove the original images folder\n",
    "try:\n",
    "    os.remove(img_folder)\n",
    "except OSError:\n",
    "    pass"
   ]
  },
  {
   "cell_type": "code",
   "execution_count": null,
   "metadata": {},
   "outputs": [],
   "source": [
    "### trainiere das Modell ###\n",
    "\n",
    "from ultralytics import YOLO\n",
    "import cv2\n",
    "\n",
    "# Laden des YOLOv8-Modells\n",
    "model = YOLO(\"customize/model/yolov8x-seg.pt\") #lade Model\n",
    "\n",
    "# Trainieren des Modells\n",
    "model.train(data=\"customize/data/seg_cvat.yaml\", epochs=20, batch=2, device=0, seed=42, project='Output/Pfad', name='Projektname', pretrained=True, imgsz=640, save=True, workers=2, task='segment')"
   ]
  },
  {
   "cell_type": "code",
   "execution_count": null,
   "metadata": {},
   "outputs": [],
   "source": [
    "### Vorhersage auf unbekannte Ausgeschnittene Delfin Bilder ###\n",
    "\n",
    "model = YOLO(\"Pfad/zu/trainierten/Model/best.pt\")  # load a custom model\n",
    "model.predict(\"Pfad/zu/Bilderordner\", box=False, hide_labels=True, save_txt=True, save=True, conf=0.5)"
   ]
  }
 ],
 "metadata": {
  "kernelspec": {
   "display_name": "Python 3",
   "language": "python",
   "name": "python3"
  },
  "language_info": {
   "name": "python",
   "version": "3.10.10"
  },
  "orig_nbformat": 4,
  "vscode": {
   "interpreter": {
    "hash": "9f8e04810a828f9804f56f8b61ca4116800c2e8f7308a8dc3a05b624a0caf176"
   }
  }
 },
 "nbformat": 4,
 "nbformat_minor": 2
}
